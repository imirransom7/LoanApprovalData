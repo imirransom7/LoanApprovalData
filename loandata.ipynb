{
 "cells": [
  {
   "cell_type": "markdown",
   "id": "10bcece7-47f1-4a1f-8bd1-21ffc862b548",
   "metadata": {},
   "source": [
    "# Loan Approval Data\n",
    "\n",
    "A data analysis on loan approvval data. I am going to look into the data of loan approvals to see if this data helps with a larger project I have in mind"
   ]
  },
  {
   "cell_type": "code",
   "execution_count": 1,
   "id": "548b7081-e67d-494c-802b-9244c514a6db",
   "metadata": {},
   "outputs": [],
   "source": [
    "import pandas as pd"
   ]
  },
  {
   "cell_type": "code",
   "execution_count": 3,
   "id": "2d907b12-fc8f-4920-8f3c-4585ce81daec",
   "metadata": {},
   "outputs": [],
   "source": [
    "df = pd.read_json('C:/Users/RhaMo/Downloads/loan_approval_dataset.json.zip')"
   ]
  },
  {
   "cell_type": "code",
   "execution_count": 4,
   "id": "dd549b66-492a-4638-bd9e-da8ad921db3b",
   "metadata": {},
   "outputs": [
    {
     "name": "stdout",
     "output_type": "stream",
     "text": [
      "<class 'pandas.core.frame.DataFrame'>\n",
      "Index: 252000 entries, 0 to 251999\n",
      "Data columns (total 13 columns):\n",
      " #   Column             Non-Null Count   Dtype \n",
      "---  ------             --------------   ----- \n",
      " 0   Id                 252000 non-null  int64 \n",
      " 1   Income             252000 non-null  int64 \n",
      " 2   Age                252000 non-null  int64 \n",
      " 3   Experience         252000 non-null  int64 \n",
      " 4   Married/Single     252000 non-null  object\n",
      " 5   House_Ownership    252000 non-null  object\n",
      " 6   Car_Ownership      252000 non-null  object\n",
      " 7   Profession         252000 non-null  object\n",
      " 8   CITY               252000 non-null  object\n",
      " 9   STATE              252000 non-null  object\n",
      " 10  CURRENT_JOB_YRS    252000 non-null  int64 \n",
      " 11  CURRENT_HOUSE_YRS  252000 non-null  int64 \n",
      " 12  Risk_Flag          252000 non-null  int64 \n",
      "dtypes: int64(7), object(6)\n",
      "memory usage: 26.9+ MB\n"
     ]
    }
   ],
   "source": [
    "df.info()"
   ]
  },
  {
   "cell_type": "code",
   "execution_count": null,
   "id": "63fb0bcf-a7bf-48b0-a862-6295f42a2a7c",
   "metadata": {},
   "outputs": [],
   "source": []
  }
 ],
 "metadata": {
  "kernelspec": {
   "display_name": "Python 3 (ipykernel)",
   "language": "python",
   "name": "python3"
  },
  "language_info": {
   "codemirror_mode": {
    "name": "ipython",
    "version": 3
   },
   "file_extension": ".py",
   "mimetype": "text/x-python",
   "name": "python",
   "nbconvert_exporter": "python",
   "pygments_lexer": "ipython3",
   "version": "3.9.13"
  }
 },
 "nbformat": 4,
 "nbformat_minor": 5
}
